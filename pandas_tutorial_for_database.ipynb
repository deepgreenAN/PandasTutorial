{
 "cells": [
  {
   "cell_type": "markdown",
   "metadata": {},
   "source": [
    "## ここでは，データベース作成時に利用した独特なpandasの挙動を示す"
   ]
  },
  {
   "cell_type": "markdown",
   "metadata": {},
   "source": [
    "### あるカラムに同じ要素を持つ行をグループ化 "
   ]
  },
  {
   "cell_type": "markdown",
   "metadata": {},
   "source": [
    "以下のようなDataFrameがあったとする．"
   ]
  },
  {
   "cell_type": "code",
   "execution_count": 1,
   "metadata": {
    "ExecuteTime": {
     "end_time": "2020-11-03T04:10:56.924620Z",
     "start_time": "2020-11-03T04:10:51.904049Z"
    }
   },
   "outputs": [],
   "source": [
    "import pandas as pd"
   ]
  },
  {
   "cell_type": "code",
   "execution_count": 4,
   "metadata": {
    "ExecuteTime": {
     "end_time": "2020-11-03T04:14:27.410428Z",
     "start_time": "2020-11-03T04:14:27.330629Z"
    }
   },
   "outputs": [
    {
     "data": {
      "text/html": [
       "<div>\n",
       "<style scoped>\n",
       "    .dataframe tbody tr th:only-of-type {\n",
       "        vertical-align: middle;\n",
       "    }\n",
       "\n",
       "    .dataframe tbody tr th {\n",
       "        vertical-align: top;\n",
       "    }\n",
       "\n",
       "    .dataframe thead th {\n",
       "        text-align: right;\n",
       "    }\n",
       "</style>\n",
       "<table border=\"1\" class=\"dataframe\">\n",
       "  <thead>\n",
       "    <tr style=\"text-align: right;\">\n",
       "      <th></th>\n",
       "      <th>city</th>\n",
       "      <th>pref</th>\n",
       "    </tr>\n",
       "  </thead>\n",
       "  <tbody>\n",
       "    <tr>\n",
       "      <th>0</th>\n",
       "      <td>Shinjuku</td>\n",
       "      <td>Tokyo</td>\n",
       "    </tr>\n",
       "    <tr>\n",
       "      <th>1</th>\n",
       "      <td>Kawasaki</td>\n",
       "      <td>Kanagawa</td>\n",
       "    </tr>\n",
       "    <tr>\n",
       "      <th>2</th>\n",
       "      <td>Urawa</td>\n",
       "      <td>Saitama</td>\n",
       "    </tr>\n",
       "    <tr>\n",
       "      <th>3</th>\n",
       "      <td>Shibuya</td>\n",
       "      <td>Tokyo</td>\n",
       "    </tr>\n",
       "    <tr>\n",
       "      <th>4</th>\n",
       "      <td>Yokohama</td>\n",
       "      <td>Kanagawa</td>\n",
       "    </tr>\n",
       "  </tbody>\n",
       "</table>\n",
       "</div>"
      ],
      "text/plain": [
       "       city      pref\n",
       "0  Shinjuku     Tokyo\n",
       "1  Kawasaki  Kanagawa\n",
       "2     Urawa   Saitama\n",
       "3   Shibuya     Tokyo\n",
       "4  Yokohama  Kanagawa"
      ]
     },
     "execution_count": 4,
     "metadata": {},
     "output_type": "execute_result"
    }
   ],
   "source": [
    "df = pd.DataFrame([[\"Shinjuku\", \"Tokyo\"],\n",
    "                   [\"Kawasaki\", \"Kanagawa\"],\n",
    "                   [\"Urawa\", \"Saitama\"],\n",
    "                   [\"Shibuya\", \"Tokyo\"],\n",
    "                   [\"Yokohama\", \"Kanagawa\"],\n",
    "                  ],columns=[\"city\", \"pref\"])\n",
    "df"
   ]
  },
  {
   "cell_type": "markdown",
   "metadata": {},
   "source": [
    "これを，prefカラムの値ごとに，cityのリストを取得したいとする．つまり{\"pref\":\"city\"のリスト}となるようにしたいとする"
   ]
  },
  {
   "cell_type": "code",
   "execution_count": 13,
   "metadata": {
    "ExecuteTime": {
     "end_time": "2020-11-03T04:52:42.545223Z",
     "start_time": "2020-11-03T04:52:42.517298Z"
    }
   },
   "outputs": [
    {
     "data": {
      "text/plain": [
       "<pandas.core.groupby.generic.DataFrameGroupBy object at 0x000001E88A81BF48>"
      ]
     },
     "execution_count": 13,
     "metadata": {},
     "output_type": "execute_result"
    }
   ],
   "source": [
    "grouped = df.groupby(\"pref\")\n",
    "grouped"
   ]
  },
  {
   "cell_type": "markdown",
   "metadata": {},
   "source": [
    "このgroupbyは何らかの関数を適用しないと実体を持たない(例えば平均など)"
   ]
  },
  {
   "cell_type": "code",
   "execution_count": 15,
   "metadata": {
    "ExecuteTime": {
     "end_time": "2020-11-03T04:54:56.300412Z",
     "start_time": "2020-11-03T04:54:56.099950Z"
    }
   },
   "outputs": [
    {
     "data": {
      "text/html": [
       "<div>\n",
       "<style scoped>\n",
       "    .dataframe tbody tr th:only-of-type {\n",
       "        vertical-align: middle;\n",
       "    }\n",
       "\n",
       "    .dataframe tbody tr th {\n",
       "        vertical-align: top;\n",
       "    }\n",
       "\n",
       "    .dataframe thead th {\n",
       "        text-align: right;\n",
       "    }\n",
       "</style>\n",
       "<table border=\"1\" class=\"dataframe\">\n",
       "  <thead>\n",
       "    <tr style=\"text-align: right;\">\n",
       "      <th></th>\n",
       "      <th>0</th>\n",
       "      <th>1</th>\n",
       "    </tr>\n",
       "  </thead>\n",
       "  <tbody>\n",
       "    <tr>\n",
       "      <th>0</th>\n",
       "      <td>Kanagawa</td>\n",
       "      <td>city      pref\n",
       "1  Kawasaki  Kanagawa\n",
       "4 ...</td>\n",
       "    </tr>\n",
       "    <tr>\n",
       "      <th>1</th>\n",
       "      <td>Saitama</td>\n",
       "      <td>city     pref\n",
       "2  Urawa  Saitama</td>\n",
       "    </tr>\n",
       "    <tr>\n",
       "      <th>2</th>\n",
       "      <td>Tokyo</td>\n",
       "      <td>city   pref\n",
       "0  Shinjuku  Tokyo\n",
       "3   Shib...</td>\n",
       "    </tr>\n",
       "  </tbody>\n",
       "</table>\n",
       "</div>"
      ],
      "text/plain": [
       "          0                                                  1\n",
       "0  Kanagawa         city      pref\n",
       "1  Kawasaki  Kanagawa\n",
       "4 ...\n",
       "1   Saitama                    city     pref\n",
       "2  Urawa  Saitama\n",
       "2     Tokyo         city   pref\n",
       "0  Shinjuku  Tokyo\n",
       "3   Shib..."
      ]
     },
     "execution_count": 15,
     "metadata": {},
     "output_type": "execute_result"
    }
   ],
   "source": [
    "grouped_df = pd.DataFrame(grouped)\n",
    "grouped_df"
   ]
  },
  {
   "cell_type": "markdown",
   "metadata": {
    "ExecuteTime": {
     "end_time": "2020-11-03T04:58:25.988481Z",
     "start_time": "2020-11-03T04:58:25.961551Z"
    }
   },
   "source": [
    "上はDataFrameのコンストラクタに渡した場合．これじゃ意味が分からない．そこでリスト化してみる．"
   ]
  },
  {
   "cell_type": "code",
   "execution_count": 17,
   "metadata": {
    "ExecuteTime": {
     "end_time": "2020-11-03T04:55:56.567192Z",
     "start_time": "2020-11-03T04:55:56.502365Z"
    }
   },
   "outputs": [
    {
     "data": {
      "text/plain": [
       "[('Kanagawa',\n",
       "         city      pref\n",
       "  1  Kawasaki  Kanagawa\n",
       "  4  Yokohama  Kanagawa),\n",
       " ('Saitama',\n",
       "      city     pref\n",
       "  2  Urawa  Saitama),\n",
       " ('Tokyo',\n",
       "         city   pref\n",
       "  0  Shinjuku  Tokyo\n",
       "  3   Shibuya  Tokyo)]"
      ]
     },
     "execution_count": 17,
     "metadata": {},
     "output_type": "execute_result"
    }
   ],
   "source": [
    "list(grouped)"
   ]
  },
  {
   "cell_type": "markdown",
   "metadata": {},
   "source": [
    "どうやらそれぞれがDataFrameのリストになるようである．"
   ]
  },
  {
   "cell_type": "code",
   "execution_count": 19,
   "metadata": {
    "ExecuteTime": {
     "end_time": "2020-11-03T05:00:06.135577Z",
     "start_time": "2020-11-03T05:00:06.068751Z"
    }
   },
   "outputs": [
    {
     "data": {
      "text/plain": [
       "[('Kanagawa',\n",
       "  1    Kawasaki\n",
       "  4    Yokohama\n",
       "  Name: city, dtype: object),\n",
       " ('Saitama',\n",
       "  2    Urawa\n",
       "  Name: city, dtype: object),\n",
       " ('Tokyo',\n",
       "  0    Shinjuku\n",
       "  3     Shibuya\n",
       "  Name: city, dtype: object)]"
      ]
     },
     "execution_count": 19,
     "metadata": {},
     "output_type": "execute_result"
    }
   ],
   "source": [
    "list(grouped[\"city\"])"
   ]
  },
  {
   "cell_type": "markdown",
   "metadata": {},
   "source": [
    "上のようにカラム名を指定すると，それぞれのDataFrameのカラムを指定できる．普通のDataFrameのようにlocを使わないことに注意"
   ]
  },
  {
   "cell_type": "code",
   "execution_count": 23,
   "metadata": {
    "ExecuteTime": {
     "end_time": "2020-11-03T05:05:59.757866Z",
     "start_time": "2020-11-03T05:05:59.687056Z"
    }
   },
   "outputs": [
    {
     "data": {
      "text/plain": [
       "{'Kanagawa': 1    Kawasaki\n",
       " 4    Yokohama\n",
       " Name: city, dtype: object,\n",
       " 'Saitama': 2    Urawa\n",
       " Name: city, dtype: object,\n",
       " 'Tokyo': 0    Shinjuku\n",
       " 3     Shibuya\n",
       " Name: city, dtype: object}"
      ]
     },
     "execution_count": 23,
     "metadata": {},
     "output_type": "execute_result"
    }
   ],
   "source": [
    "dict_group = dict(list(grouped[\"city\"]))\n",
    "dict_group"
   ]
  },
  {
   "cell_type": "markdown",
   "metadata": {
    "ExecuteTime": {
     "end_time": "2020-11-03T05:07:53.250264Z",
     "start_time": "2020-11-03T05:07:53.233308Z"
    }
   },
   "source": [
    "上の例はかなりそれっぽいが，それぞれが変なインデックス(元のインデックス)を含むDataFrameになってしまう．そこで，それぞれのグループに関してvaluesを取得する関数を利用(apply)してみよう．"
   ]
  },
  {
   "cell_type": "code",
   "execution_count": 32,
   "metadata": {
    "ExecuteTime": {
     "end_time": "2020-11-03T05:10:33.708028Z",
     "start_time": "2020-11-03T05:10:33.649183Z"
    }
   },
   "outputs": [
    {
     "data": {
      "text/plain": [
       "pref\n",
       "Kanagawa    [Kawasaki, Yokohama]\n",
       "Saitama                  [Urawa]\n",
       "Tokyo        [Shinjuku, Shibuya]\n",
       "Name: city, dtype: object"
      ]
     },
     "execution_count": 32,
     "metadata": {},
     "output_type": "execute_result"
    }
   ],
   "source": [
    "def get_values(df):\n",
    "    return df.values\n",
    "\n",
    "group_array = grouped[\"city\"].apply(get_values)\n",
    "group_array"
   ]
  },
  {
   "cell_type": "markdown",
   "metadata": {},
   "source": [
    "今回はpd.Seriesが返ってくる．それはインデックスがprefになった各要素にndarrayを持つSeriesである．もしapplyにmean, max, min等を与えれば，各要素がその関数を適用された値になるわけである．"
   ]
  },
  {
   "cell_type": "code",
   "execution_count": 33,
   "metadata": {
    "ExecuteTime": {
     "end_time": "2020-11-03T05:12:07.466213Z",
     "start_time": "2020-11-03T05:12:07.435320Z"
    }
   },
   "outputs": [
    {
     "data": {
      "text/plain": [
       "array(['Kawasaki', 'Yokohama'], dtype=object)"
      ]
     },
     "execution_count": 33,
     "metadata": {},
     "output_type": "execute_result"
    }
   ],
   "source": [
    "group_array.loc[\"Kanagawa\"]"
   ]
  },
  {
   "cell_type": "markdown",
   "metadata": {
    "ExecuteTime": {
     "end_time": "2020-11-03T05:14:54.179652Z",
     "start_time": "2020-11-03T05:14:54.154716Z"
    }
   },
   "source": [
    "そこで，このSeriesをdictにしてあげればよい．"
   ]
  },
  {
   "cell_type": "code",
   "execution_count": 36,
   "metadata": {
    "ExecuteTime": {
     "end_time": "2020-11-03T05:15:12.198456Z",
     "start_time": "2020-11-03T05:15:12.170523Z"
    }
   },
   "outputs": [
    {
     "data": {
      "text/plain": [
       "{'Kanagawa': array(['Kawasaki', 'Yokohama'], dtype=object),\n",
       " 'Saitama': array(['Urawa'], dtype=object),\n",
       " 'Tokyo': array(['Shinjuku', 'Shibuya'], dtype=object)}"
      ]
     },
     "execution_count": 36,
     "metadata": {},
     "output_type": "execute_result"
    }
   ],
   "source": [
    "dict(group_array)"
   ]
  },
  {
   "cell_type": "markdown",
   "metadata": {},
   "source": [
    "これはpd.Seriesを辞書にすることでインデックスをキーとし，その要素を値とする仕様による"
   ]
  },
  {
   "cell_type": "code",
   "execution_count": 37,
   "metadata": {
    "ExecuteTime": {
     "end_time": "2020-11-03T05:17:53.134929Z",
     "start_time": "2020-11-03T05:17:53.087055Z"
    }
   },
   "outputs": [
    {
     "data": {
      "text/plain": [
       "{'A': 1, 'B': 2, 'C': 3, 'D': 4, 'E': 5}"
      ]
     },
     "execution_count": 37,
     "metadata": {},
     "output_type": "execute_result"
    }
   ],
   "source": [
    "series = pd.Series([1,2,3,4,5],index=[\"A\",\"B\",\"C\",\"D\",\"E\"])\n",
    "dict(series)"
   ]
  },
  {
   "cell_type": "markdown",
   "metadata": {},
   "source": [
    "### まとめ "
   ]
  },
  {
   "cell_type": "code",
   "execution_count": 38,
   "metadata": {
    "ExecuteTime": {
     "end_time": "2020-11-03T05:19:02.408621Z",
     "start_time": "2020-11-03T05:19:02.352764Z"
    }
   },
   "outputs": [
    {
     "data": {
      "text/plain": [
       "{'Kanagawa': array(['Kawasaki', 'Yokohama'], dtype=object),\n",
       " 'Saitama': array(['Urawa'], dtype=object),\n",
       " 'Tokyo': array(['Shinjuku', 'Shibuya'], dtype=object)}"
      ]
     },
     "execution_count": 38,
     "metadata": {},
     "output_type": "execute_result"
    }
   ],
   "source": [
    "def get_values(df):\n",
    "    return df.values\n",
    "\n",
    "group_array = grouped[\"city\"].apply(get_values)\n",
    "dict_group_array = dict(group_array)\n",
    "dict_group_array"
   ]
  },
  {
   "cell_type": "markdown",
   "metadata": {},
   "source": [
    "### リサンプル用のaggのための辞書作り "
   ]
  },
  {
   "cell_type": "markdown",
   "metadata": {},
   "source": [
    "df.resample.aggを利用する際，{\"カラム名\":関数名や対応文字列}とする辞書が必要になるこれをfor文を用いずに作成する"
   ]
  },
  {
   "cell_type": "code",
   "execution_count": 55,
   "metadata": {
    "ExecuteTime": {
     "end_time": "2020-11-03T05:49:20.518430Z",
     "start_time": "2020-11-03T05:49:20.457643Z"
    }
   },
   "outputs": [
    {
     "data": {
      "text/plain": [
       "Index(['Open_0', 'High_0', 'Low_0', 'Close_0', 'Volume_0', 'Open_1', 'High_1',\n",
       "       'Low_1', 'Close_1', 'Volume_1'],\n",
       "      dtype='object')"
      ]
     },
     "execution_count": 55,
     "metadata": {},
     "output_type": "execute_result"
    }
   ],
   "source": [
    "df = pd.DataFrame([[1,1,1,1,1,1,1,1,1,1]],columns=[\"Open_0\",\"High_0\",\"Low_0\",\"Close_0\",\"Volume_0\",\"Open_1\",\"High_1\",\"Low_1\",\"Close_1\",\"Volume_1\"])\n",
    "df.columns"
   ]
  },
  {
   "cell_type": "markdown",
   "metadata": {},
   "source": [
    "これをOpen_等ごとに代入する値を変えたいとする．そのようにカラム名の文字列パターンを扱うには，pandas.index.strの各種メソッドを利用する．ある文字列から始まる場合はstart_withを利用する．"
   ]
  },
  {
   "cell_type": "code",
   "execution_count": 51,
   "metadata": {
    "ExecuteTime": {
     "end_time": "2020-11-03T05:47:04.036533Z",
     "start_time": "2020-11-03T05:47:04.004629Z"
    }
   },
   "outputs": [
    {
     "data": {
      "text/plain": [
       "array([ True, False, False, False, False,  True, False, False, False,\n",
       "       False])"
      ]
     },
     "execution_count": 51,
     "metadata": {},
     "output_type": "execute_result"
    }
   ],
   "source": [
    "df.columns.str.startswith(\"Open\")"
   ]
  },
  {
   "cell_type": "markdown",
   "metadata": {},
   "source": [
    "このブール値を利用してカラム名を取得できる．"
   ]
  },
  {
   "cell_type": "code",
   "execution_count": 52,
   "metadata": {
    "ExecuteTime": {
     "end_time": "2020-11-03T05:47:05.411858Z",
     "start_time": "2020-11-03T05:47:05.361993Z"
    }
   },
   "outputs": [
    {
     "data": {
      "text/html": [
       "<div>\n",
       "<style scoped>\n",
       "    .dataframe tbody tr th:only-of-type {\n",
       "        vertical-align: middle;\n",
       "    }\n",
       "\n",
       "    .dataframe tbody tr th {\n",
       "        vertical-align: top;\n",
       "    }\n",
       "\n",
       "    .dataframe thead th {\n",
       "        text-align: right;\n",
       "    }\n",
       "</style>\n",
       "<table border=\"1\" class=\"dataframe\">\n",
       "  <thead>\n",
       "    <tr style=\"text-align: right;\">\n",
       "      <th></th>\n",
       "      <th>Open_0</th>\n",
       "      <th>Open_1</th>\n",
       "    </tr>\n",
       "  </thead>\n",
       "  <tbody>\n",
       "    <tr>\n",
       "      <th>0</th>\n",
       "      <td>1</td>\n",
       "      <td>1</td>\n",
       "    </tr>\n",
       "  </tbody>\n",
       "</table>\n",
       "</div>"
      ],
      "text/plain": [
       "   Open_0  Open_1\n",
       "0       1       1"
      ]
     },
     "execution_count": 52,
     "metadata": {},
     "output_type": "execute_result"
    }
   ],
   "source": [
    "df.loc[:,df.columns.str.startswith(\"Open\")]"
   ]
  },
  {
   "cell_type": "markdown",
   "metadata": {},
   "source": [
    "そこで，カラム名をインデックスとするSeriesを作成し，そのSeriesの要素の値にそれぞれ関数あるいは対応文字列を与え，最後にそのSeriesを辞書に変更する"
   ]
  },
  {
   "cell_type": "code",
   "execution_count": 58,
   "metadata": {
    "ExecuteTime": {
     "end_time": "2020-11-03T05:49:30.616418Z",
     "start_time": "2020-11-03T05:49:30.536634Z"
    }
   },
   "outputs": [
    {
     "data": {
      "text/plain": [
       "{'Open_0': 'first',\n",
       " 'High_0': 'max',\n",
       " 'Low_0': 'min',\n",
       " 'Close_0': 'last',\n",
       " 'Volume_0': 'sum',\n",
       " 'Open_1': 'first',\n",
       " 'High_1': 'max',\n",
       " 'Low_1': 'min',\n",
       " 'Close_1': 'last',\n",
       " 'Volume_1': 'sum'}"
      ]
     },
     "execution_count": 58,
     "metadata": {},
     "output_type": "execute_result"
    }
   ],
   "source": [
    "column_series = pd.Series(len(df.columns)*[None], index=df.columns)\n",
    "column_series.loc[column_series.index.str.startswith(\"Open\")] = \"first\"\n",
    "column_series.loc[column_series.index.str.startswith(\"High\")] = \"max\"\n",
    "column_series.loc[column_series.index.str.startswith(\"Low\")] = \"min\"\n",
    "column_series.loc[column_series.index.str.startswith(\"Close\")] = \"last\"\n",
    "column_series.loc[column_series.index.str.startswith(\"Volume\")] = \"sum\"\n",
    "dict(column_series)"
   ]
  },
  {
   "cell_type": "markdown",
   "metadata": {},
   "source": [
    "正規表現を利用した場合"
   ]
  },
  {
   "cell_type": "code",
   "execution_count": 60,
   "metadata": {
    "ExecuteTime": {
     "end_time": "2020-11-03T05:55:55.129804Z",
     "start_time": "2020-11-03T05:55:55.117837Z"
    }
   },
   "outputs": [],
   "source": [
    "import re"
   ]
  },
  {
   "cell_type": "code",
   "execution_count": 61,
   "metadata": {
    "ExecuteTime": {
     "end_time": "2020-11-03T05:56:05.914005Z",
     "start_time": "2020-11-03T05:56:05.802259Z"
    }
   },
   "outputs": [
    {
     "data": {
      "text/plain": [
       "{'Open_0': 'first',\n",
       " 'High_0': 'max',\n",
       " 'Low_0': 'min',\n",
       " 'Close_0': 'last',\n",
       " 'Volume_0': 'sum',\n",
       " 'Open_1': 'first',\n",
       " 'High_1': 'max',\n",
       " 'Low_1': 'min',\n",
       " 'Close_1': 'last',\n",
       " 'Volume_1': 'sum'}"
      ]
     },
     "execution_count": 61,
     "metadata": {},
     "output_type": "execute_result"
    }
   ],
   "source": [
    "column_series = pd.Series(len(df.columns)*[None], index=df.columns)\n",
    "column_series.loc[column_series.index.str.match(re.compile(\"Open_.+\"))] = \"first\"\n",
    "column_series.loc[column_series.index.str.match(\"High_.+\")] = \"max\"\n",
    "column_series.loc[column_series.index.str.match(\"Low_.+\")] = \"min\"\n",
    "column_series.loc[column_series.index.str.match(\"Close_.+\")] = \"last\"\n",
    "column_series.loc[column_series.index.str.match(\"Volume_.+\")] = \"sum\"\n",
    "dict(column_series)"
   ]
  }
 ],
 "metadata": {
  "kernelspec": {
   "display_name": "Python 3",
   "language": "python",
   "name": "python3"
  },
  "language_info": {
   "codemirror_mode": {
    "name": "ipython",
    "version": 3
   },
   "file_extension": ".py",
   "mimetype": "text/x-python",
   "name": "python",
   "nbconvert_exporter": "python",
   "pygments_lexer": "ipython3",
   "version": "3.7.4"
  },
  "toc": {
   "base_numbering": 1,
   "nav_menu": {},
   "number_sections": true,
   "sideBar": true,
   "skip_h1_title": false,
   "title_cell": "Table of Contents",
   "title_sidebar": "Contents",
   "toc_cell": false,
   "toc_position": {},
   "toc_section_display": true,
   "toc_window_display": false
  }
 },
 "nbformat": 4,
 "nbformat_minor": 4
}
